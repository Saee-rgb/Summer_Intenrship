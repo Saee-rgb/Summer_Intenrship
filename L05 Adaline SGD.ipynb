{
 "cells": [
  {
   "cell_type": "markdown",
   "id": "006446f8",
   "metadata": {},
   "source": [
    "### Imports"
   ]
  },
  {
   "cell_type": "code",
   "execution_count": 10,
   "id": "a2dd5932",
   "metadata": {},
   "outputs": [],
   "source": [
    "import pandas as pd \n",
    "import matplotlib.pyplot as plt\n",
    "import torch\n",
    "%matplotlib inline"
   ]
  },
  {
   "cell_type": "markdown",
   "id": "ca67b6fc",
   "metadata": {},
   "source": [
    "### Load & prepare toy dataset"
   ]
  },
  {
   "cell_type": "code",
   "execution_count": 11,
   "id": "d89f1d7e",
   "metadata": {},
   "outputs": [
    {
     "data": {
      "text/html": [
       "<div>\n",
       "<style scoped>\n",
       "    .dataframe tbody tr th:only-of-type {\n",
       "        vertical-align: middle;\n",
       "    }\n",
       "\n",
       "    .dataframe tbody tr th {\n",
       "        vertical-align: top;\n",
       "    }\n",
       "\n",
       "    .dataframe thead th {\n",
       "        text-align: right;\n",
       "    }\n",
       "</style>\n",
       "<table border=\"1\" class=\"dataframe\">\n",
       "  <thead>\n",
       "    <tr style=\"text-align: right;\">\n",
       "      <th></th>\n",
       "      <th>x1</th>\n",
       "      <th>x2</th>\n",
       "      <th>x3</th>\n",
       "      <th>x4</th>\n",
       "      <th>y</th>\n",
       "    </tr>\n",
       "  </thead>\n",
       "  <tbody>\n",
       "    <tr>\n",
       "      <th>145</th>\n",
       "      <td>6.7</td>\n",
       "      <td>3.0</td>\n",
       "      <td>5.2</td>\n",
       "      <td>2.3</td>\n",
       "      <td>1</td>\n",
       "    </tr>\n",
       "    <tr>\n",
       "      <th>146</th>\n",
       "      <td>6.3</td>\n",
       "      <td>2.5</td>\n",
       "      <td>5.0</td>\n",
       "      <td>1.9</td>\n",
       "      <td>1</td>\n",
       "    </tr>\n",
       "    <tr>\n",
       "      <th>147</th>\n",
       "      <td>6.5</td>\n",
       "      <td>3.0</td>\n",
       "      <td>5.2</td>\n",
       "      <td>2.0</td>\n",
       "      <td>1</td>\n",
       "    </tr>\n",
       "    <tr>\n",
       "      <th>148</th>\n",
       "      <td>6.2</td>\n",
       "      <td>3.4</td>\n",
       "      <td>5.4</td>\n",
       "      <td>2.3</td>\n",
       "      <td>1</td>\n",
       "    </tr>\n",
       "    <tr>\n",
       "      <th>149</th>\n",
       "      <td>5.9</td>\n",
       "      <td>3.0</td>\n",
       "      <td>5.1</td>\n",
       "      <td>1.8</td>\n",
       "      <td>1</td>\n",
       "    </tr>\n",
       "  </tbody>\n",
       "</table>\n",
       "</div>"
      ],
      "text/plain": [
       "      x1   x2   x3   x4  y\n",
       "145  6.7  3.0  5.2  2.3  1\n",
       "146  6.3  2.5  5.0  1.9  1\n",
       "147  6.5  3.0  5.2  2.0  1\n",
       "148  6.2  3.4  5.4  2.3  1\n",
       "149  5.9  3.0  5.1  1.8  1"
      ]
     },
     "execution_count": 11,
     "metadata": {},
     "output_type": "execute_result"
    }
   ],
   "source": [
    "df = pd.read_csv('iris.data' , index_col = None, header = None) \n",
    "df.columns = [ 'x1' ,'x2' ,'x3' ,'x4', 'y']\n",
    "df = df.iloc[50:150]\n",
    "df['y'] = df['y'].apply(lambda x :0 if x == 'Iris-versicolor' else 1)\n",
    "df.tail()"
   ]
  },
  {
   "cell_type": "code",
   "execution_count": 12,
   "id": "0a6a4261",
   "metadata": {},
   "outputs": [],
   "source": [
    "##Assign features and target \n",
    "\n",
    "X = torch.tensor(df[['x2' ,'x3']].values , dtype = torch.float)\n",
    "y = torch.tensor(df['y'].values , dtype = torch.int)\n",
    "\n",
    "\n",
    "##Shuffling and train/test\n",
    "torch.manual_seed(123)\n",
    "shuffle_idx = torch.randperm(y.size(0) , dtype = torch.long)\n",
    "X ,y = X[shuffle_idx] , y[shuffle_idx]\n",
    "\n",
    "percent70 = int(shuffle_idx.size(0) * 0.7)\n",
    "\n",
    "X_train , X_test = X[shuffle_idx[ : percent70]] , X[shuffle_idx[percent70 : ]]\n",
    "y_train , y_test = y[shuffle_idx[ : percent70]] ,y[shuffle_idx[percent70 : ]] \n",
    "\n",
    "#Normalize \n",
    "mu , sigma = X_train.mean(dim = 0) , X_train.std(dim = 0)\n",
    "X_train = (X_train - mu) /sigma \n",
    "X_test = (X_test-mu)/sigma\n",
    "\n"
   ]
  },
  {
   "cell_type": "code",
   "execution_count": 13,
   "id": "a9278313",
   "metadata": {},
   "outputs": [
    {
     "data": {
      "image/png": "[encoded data removed]",
      "text/plain": [
       "<Figure size 640x480 with 1 Axes>"
      ]
     },
     "metadata": {},
     "output_type": "display_data"
    }
   ],
   "source": [
    "##Making training set plot \n",
    "plt.scatter(X_train[y_train ==0 , 0] , X_train[y_train == 0 , 1] , label = 'class 0' , marker = 'o')\n",
    "plt.scatter(X_train[y_train ==1 , 0] , X_train[y_train == 1 , 1] , label = 'class 1' , marker = 's')\n",
    "plt.legend()\n",
    "plt.show()"
   ]
  },
  {
   "cell_type": "code",
   "execution_count": 14,
   "id": "dc3117de",
   "metadata": {},
   "outputs": [
    {
     "data": {
      "image/png": "[encoded data removed]",
      "text/plain": [
       "<Figure size 640x480 with 1 Axes>"
      ]
     },
     "metadata": {},
     "output_type": "display_data"
    }
   ],
   "source": [
    "plt.scatter(X_test[y_test == 0, 0], X_test[y_test == 0, 1], label='class 0' , marker = 'o')\n",
    "plt.scatter(X_test[y_test == 1, 0], X_test[y_test == 1, 1], label='class 1' , marker = 's')\n",
    "plt.legend()\n",
    "plt.show()"
   ]
  },
  {
   "cell_type": "markdown",
   "id": "1d7a9eeb",
   "metadata": {},
   "source": [
    " ### Implement ADALINE Model \n",
    " "
   ]
  },
  {
   "cell_type": "code",
   "execution_count": 26,
   "id": "9df715cf",
   "metadata": {},
   "outputs": [],
   "source": [
    "class Adaline1(): #Exactly like linear regression\n",
    "    \n",
    "    ##The constructor\n",
    "    def __init__(self, num_features): \n",
    "        self.num_features = num_features \n",
    "        self.weights = torch.zeros(num_features , 1 , dtype = torch.float)\n",
    "        self.bias = torch.zeros( 1, dtype = torch.float)\n",
    "    \n",
    "    ##Calculating netinput and activation function \n",
    "    def forward( self,x):\n",
    "        netinputs = torch.add(torch.mm(x, self.weights), self.bias)\n",
    "        activations = netinputs \n",
    "        return activations.view(-1) # convert to row vector \n",
    "    \n",
    "    ##The backward pass\n",
    "    def backward(self , x, yhat, y): \n",
    "        \n",
    "        grad_loss_yhat = 2*(yhat-y)\n",
    "        \n",
    "        grad_yhat_weights = x \n",
    "        grad_yhat_bias = 1\n",
    "        \n",
    "        #Chain rule : inner times outer\n",
    "        \n",
    "        grad_loss_weights = torch.mm(grad_yhat_weights.t() , grad_loss_yhat.view(-1,1)) /y.size(0)\n",
    "        \n",
    "        grad_loss_bias = torch.sum(grad_yhat_bias*grad_loss_yhat)/y.size(0)\n",
    "        \n",
    "        #return negative gradient \n",
    "        return (-1)*grad_loss_weights, (-1)*grad_loss_bias\n",
    "        \n",
    "        \n",
    "        \n",
    "        "
   ]
  },
  {
   "cell_type": "markdown",
   "id": "b15a1d51",
   "metadata": {},
   "source": [
    "### Defining Training and Evaluation functions "
   ]
  },
  {
   "cell_type": "code",
   "execution_count": 27,
   "id": "4dcbf909",
   "metadata": {},
   "outputs": [],
   "source": [
    "def loss(yhat,y):\n",
    "    return torch.mean((yhat -y) **2)\n",
    "\n",
    "def train(model , x, y, num_epochs , \n",
    "         learning_rate = 0.01 , seed = 123 , minibatch_size =10):\n",
    "    cost =[]\n",
    "    \n",
    "    torch.manual_seed(seed)\n",
    "    for e in range(num_epochs):\n",
    "        \n",
    "        ##shuffle epoch \n",
    "        shuffle_idx= torch.randperm(y.size(0) , dtype = torch.long)\n",
    "        minibatches = torch.split(shuffle_idx , minibatch_size)\n",
    "        \n",
    "        for minibatch_idx in minibatches: \n",
    "            ##Compute outputs :\n",
    "            yhat = model.forward(x[minibatch_idx])\n",
    "            \n",
    "            ##Compute gradients: \n",
    "            negative_grad_w , negative_grad_b = model.backward(x[minibatch_idx] , yhat , y[minibatch_idx]) \n",
    "            \n",
    "            ##Update weights: \n",
    "            model.weights += learning_rate * negative_grad_w \n",
    "            model.bias += learning_rate * negative_grad_b \n",
    "            \n",
    "            ##Logging for each minibatch ### \n",
    "            minibatch_loss = loss(yhat, y[minibatch_idx])\n",
    "            print('Minibatch MSE: %.3f' %minibatch_loss)\n",
    "        \n",
    "       ##logiing for each epoch## \n",
    "        yhat = model.forward(x)\n",
    "        curr_loss = loss(yhat ,y)\n",
    "        print('Epoch %03d' %(e + 1) , end = '')\n",
    "        print(' |MSE: %.5f' % curr_loss) \n",
    "        cost.append(curr_loss)\n",
    "    \n",
    "    \n",
    "    return cost\n",
    "            \n",
    "        \n",
    "            \n",
    "        "
   ]
  },
  {
   "cell_type": "code",
   "execution_count": 28,
   "id": "9ab66016",
   "metadata": {},
   "outputs": [
    {
     "name": "stdout",
     "output_type": "stream",
     "text": [
      "Minibatch MSE: 0.500\n",
      "Minibatch MSE: 0.341\n",
      "Minibatch MSE: 0.220\n",
      "Minibatch MSE: 0.245\n",
      "Minibatch MSE: 0.157\n",
      "Minibatch MSE: 0.133\n",
      "Minibatch MSE: 0.144\n",
      "Epoch 001 |MSE: 0.12142\n",
      "Minibatch MSE: 0.107\n",
      "Minibatch MSE: 0.147\n",
      "Minibatch MSE: 0.064\n",
      "Minibatch MSE: 0.079\n",
      "Minibatch MSE: 0.185\n",
      "Minibatch MSE: 0.063\n",
      "Minibatch MSE: 0.135\n",
      "Epoch 002 |MSE: 0.09932\n",
      "Minibatch MSE: 0.093\n",
      "Minibatch MSE: 0.064\n",
      "Minibatch MSE: 0.128\n",
      "Minibatch MSE: 0.099\n",
      "Minibatch MSE: 0.079\n",
      "Minibatch MSE: 0.157\n",
      "Minibatch MSE: 0.080\n",
      "Epoch 003 |MSE: 0.09693\n",
      "Minibatch MSE: 0.131\n",
      "Minibatch MSE: 0.146\n",
      "Minibatch MSE: 0.050\n",
      "Minibatch MSE: 0.095\n",
      "Minibatch MSE: 0.106\n",
      "Minibatch MSE: 0.072\n",
      "Minibatch MSE: 0.102\n",
      "Epoch 004 |MSE: 0.09658\n",
      "Minibatch MSE: 0.107\n",
      "Minibatch MSE: 0.204\n",
      "Minibatch MSE: 0.149\n",
      "Minibatch MSE: 0.054\n",
      "Minibatch MSE: 0.060\n",
      "Minibatch MSE: 0.056\n",
      "Minibatch MSE: 0.069\n",
      "Epoch 005 |MSE: 0.09657\n",
      "Minibatch MSE: 0.068\n",
      "Minibatch MSE: 0.111\n",
      "Minibatch MSE: 0.092\n",
      "Minibatch MSE: 0.115\n",
      "Minibatch MSE: 0.157\n",
      "Minibatch MSE: 0.074\n",
      "Minibatch MSE: 0.087\n",
      "Epoch 006 |MSE: 0.09650\n",
      "Minibatch MSE: 0.057\n",
      "Minibatch MSE: 0.070\n",
      "Minibatch MSE: 0.133\n",
      "Minibatch MSE: 0.127\n",
      "Minibatch MSE: 0.062\n",
      "Minibatch MSE: 0.153\n",
      "Minibatch MSE: 0.103\n",
      "Epoch 007 |MSE: 0.09683\n",
      "Minibatch MSE: 0.102\n",
      "Minibatch MSE: 0.110\n",
      "Minibatch MSE: 0.101\n",
      "Minibatch MSE: 0.065\n",
      "Minibatch MSE: 0.126\n",
      "Minibatch MSE: 0.124\n",
      "Minibatch MSE: 0.076\n",
      "Epoch 008 |MSE: 0.09648\n",
      "Minibatch MSE: 0.120\n",
      "Minibatch MSE: 0.056\n",
      "Minibatch MSE: 0.100\n",
      "Minibatch MSE: 0.102\n",
      "Minibatch MSE: 0.106\n",
      "Minibatch MSE: 0.075\n",
      "Minibatch MSE: 0.144\n",
      "Epoch 009 |MSE: 0.09740\n",
      "Minibatch MSE: 0.073\n",
      "Minibatch MSE: 0.071\n",
      "Minibatch MSE: 0.084\n",
      "Minibatch MSE: 0.152\n",
      "Minibatch MSE: 0.099\n",
      "Minibatch MSE: 0.108\n",
      "Minibatch MSE: 0.118\n",
      "Epoch 010 |MSE: 0.09636\n",
      "Minibatch MSE: 0.058\n",
      "Minibatch MSE: 0.070\n",
      "Minibatch MSE: 0.145\n",
      "Minibatch MSE: 0.081\n",
      "Minibatch MSE: 0.093\n",
      "Minibatch MSE: 0.127\n",
      "Minibatch MSE: 0.115\n",
      "Epoch 011 |MSE: 0.09638\n",
      "Minibatch MSE: 0.123\n",
      "Minibatch MSE: 0.091\n",
      "Minibatch MSE: 0.085\n",
      "Minibatch MSE: 0.093\n",
      "Minibatch MSE: 0.091\n",
      "Minibatch MSE: 0.143\n",
      "Minibatch MSE: 0.081\n",
      "Epoch 012 |MSE: 0.09718\n",
      "Minibatch MSE: 0.096\n",
      "Minibatch MSE: 0.076\n",
      "Minibatch MSE: 0.149\n",
      "Minibatch MSE: 0.092\n",
      "Minibatch MSE: 0.116\n",
      "Minibatch MSE: 0.093\n",
      "Minibatch MSE: 0.091\n",
      "Epoch 013 |MSE: 0.09638\n",
      "Minibatch MSE: 0.095\n",
      "Minibatch MSE: 0.104\n",
      "Minibatch MSE: 0.107\n",
      "Minibatch MSE: 0.120\n",
      "Minibatch MSE: 0.102\n",
      "Minibatch MSE: 0.045\n",
      "Minibatch MSE: 0.124\n",
      "Epoch 014 |MSE: 0.09685\n",
      "Minibatch MSE: 0.121\n",
      "Minibatch MSE: 0.051\n",
      "Minibatch MSE: 0.095\n",
      "Minibatch MSE: 0.122\n",
      "Minibatch MSE: 0.030\n",
      "Minibatch MSE: 0.158\n",
      "Minibatch MSE: 0.121\n",
      "Epoch 015 |MSE: 0.09745\n",
      "Minibatch MSE: 0.080\n",
      "Minibatch MSE: 0.119\n",
      "Minibatch MSE: 0.091\n",
      "Minibatch MSE: 0.095\n",
      "Minibatch MSE: 0.044\n",
      "Minibatch MSE: 0.092\n",
      "Minibatch MSE: 0.180\n",
      "Epoch 016 |MSE: 0.09693\n",
      "Minibatch MSE: 0.054\n",
      "Minibatch MSE: 0.075\n",
      "Minibatch MSE: 0.184\n",
      "Minibatch MSE: 0.105\n",
      "Minibatch MSE: 0.121\n",
      "Minibatch MSE: 0.066\n",
      "Minibatch MSE: 0.096\n",
      "Epoch 017 |MSE: 0.09699\n",
      "Minibatch MSE: 0.076\n",
      "Minibatch MSE: 0.050\n",
      "Minibatch MSE: 0.198\n",
      "Minibatch MSE: 0.105\n",
      "Minibatch MSE: 0.054\n",
      "Minibatch MSE: 0.136\n",
      "Minibatch MSE: 0.099\n",
      "Epoch 018 |MSE: 0.09672\n",
      "Minibatch MSE: 0.158\n",
      "Minibatch MSE: 0.099\n",
      "Minibatch MSE: 0.087\n",
      "Minibatch MSE: 0.070\n",
      "Minibatch MSE: 0.103\n",
      "Minibatch MSE: 0.112\n",
      "Minibatch MSE: 0.081\n",
      "Epoch 019 |MSE: 0.09638\n",
      "Minibatch MSE: 0.095\n",
      "Minibatch MSE: 0.093\n",
      "Minibatch MSE: 0.111\n",
      "Minibatch MSE: 0.147\n",
      "Minibatch MSE: 0.083\n",
      "Minibatch MSE: 0.102\n",
      "Minibatch MSE: 0.065\n",
      "Epoch 020 |MSE: 0.09635\n"
     ]
    }
   ],
   "source": [
    "model = Adaline1(num_features=X_train.size(1))\n",
    "cost = train(model, \n",
    "             X_train, y_train.float(),\n",
    "             num_epochs=20,\n",
    "             learning_rate=0.1,\n",
    "             seed=123,\n",
    "             minibatch_size=10)"
   ]
  },
  {
   "cell_type": "markdown",
   "id": "d5782039",
   "metadata": {},
   "source": [
    " ### Evaluate ADALINE model\n",
    " "
   ]
  },
  {
   "cell_type": "markdown",
   "id": "88d2e2dc",
   "metadata": {},
   "source": [
    "Plot Loss"
   ]
  },
  {
   "cell_type": "code",
   "execution_count": 30,
   "id": "b999b764",
   "metadata": {},
   "outputs": [
    {
     "data": {
      "image/png": "[encoded data removed]",
      "text/plain": [
       "<Figure size 640x480 with 1 Axes>"
      ]
     },
     "metadata": {},
     "output_type": "display_data"
    }
   ],
   "source": [
    "plt.plot(range(len(cost)) , cost)  ##Here cost means MSE \n",
    "plt.xlabel('Epoch')\n",
    "plt.ylabel('Mean Squared Error')\n",
    "plt.show()\n"
   ]
  },
  {
   "cell_type": "markdown",
   "id": "b02eecfe",
   "metadata": {},
   "source": [
    "### Compare with analytical solution"
   ]
  },
  {
   "cell_type": "code",
   "execution_count": 31,
   "id": "243de89f",
   "metadata": {},
   "outputs": [
    {
     "name": "stdout",
     "output_type": "stream",
     "text": [
      "Weights tensor([[-0.0763],\n",
      "        [ 0.4181]])\n",
      "Bias tensor([0.4888])\n"
     ]
    }
   ],
   "source": [
    "print('Weights',model.weights)\n",
    "print('Bias' , model.bias)"
   ]
  },
  {
   "cell_type": "code",
   "execution_count": 40,
   "id": "332f86f1",
   "metadata": {},
   "outputs": [
    {
     "name": "stdout",
     "output_type": "stream",
     "text": [
      "Analytical weights tensor([[-0.0703],\n",
      "        [ 0.4219]])\n",
      "Analytical bias tensor([0.4857])\n"
     ]
    }
   ],
   "source": [
    "def analytical_solution(x,y):\n",
    "    Xb = torch.cat( (torch.ones((x.size(0), 1)), x), dim=1)  #create a design matrix \n",
    "    w = torch.zeros(x.size(1)) #weight vector \n",
    "    z = torch.inverse(torch.matmul(Xb.t() , Xb)) # inverse of X^TX\n",
    "    params = torch.matmul( z , torch.matmul(Xb.t() , y))  # inverse of X^TX * X^Ty \n",
    "    b , w = torch.tensor([params[0]]) , params[1:].view(x.size(1) ,1)\n",
    "    return w , b \n",
    "\n",
    "w , b = analytical_solution(X_train , y_train.float()) #why .float() ? \n",
    "print('Analytical weights', w)\n",
    "print('Analytical bias' , b)\n",
    "\n"
   ]
  },
  {
   "cell_type": "markdown",
   "id": "e05214da",
   "metadata": {},
   "source": [
    "### Evaluate on Evaluation Metric (Prediction Accuracy)"
   ]
  },
  {
   "cell_type": "code",
   "execution_count": 45,
   "id": "b4c94e46",
   "metadata": {},
   "outputs": [
    {
     "name": "stdout",
     "output_type": "stream",
     "text": [
      "Training Accuracy : 90.00\n",
      "Test Accuracy: 53.33\n"
     ]
    }
   ],
   "source": [
    "##Training accuracy \n",
    "ones = torch.ones(y_train.size()) #make a vector of length(y) which has all entries as 1 \n",
    "zeros = torch.zeros(y_train.size()) #make a vector of length(y) which has all entries as 0 \n",
    "train_pred = model.forward(X_train)\n",
    "train_acc = torch.mean(\n",
    "(torch.where(train_pred > 0.5 , ones , zeros).int() == y_train).float())\n",
    "\n",
    "##Testing accuracy \n",
    "ones = torch.ones(y_test.size())\n",
    "zeros = torch.ones(y_test.size())\n",
    "test_pred = model.forward(X_test)\n",
    "test_acc = torch.mean(\n",
    "(torch.where(test_pred > 0.5 , ones, zeros).int() == y_test).float())\n",
    "\n",
    "print('Training Accuracy : %.2f' %(train_acc * 100))\n",
    "print('Test Accuracy: %.2f' %(test_acc*100))\n",
    "\n"
   ]
  },
  {
   "cell_type": "markdown",
   "id": "6fc4c4f3",
   "metadata": {},
   "source": [
    "### Decision Boundary"
   ]
  },
  {
   "cell_type": "code",
   "execution_count": 51,
   "id": "a39f3563",
   "metadata": {},
   "outputs": [
    {
     "data": {
      "image/png": "[encoded data removed]",
      "text/plain": [
       "<Figure size 700x300 with 2 Axes>"
      ]
     },
     "metadata": {},
     "output_type": "display_data"
    }
   ],
   "source": [
    "########################\n",
    "## 2D Decision Boundary\n",
    "########################\n",
    "w , b = model.weights , model.bias-0.5  #Why are we subtracting 0.5 ? \n",
    "x_min = -3 \n",
    "y_min = ((-(w[0] * x_min - b[0]))/w[1])\n",
    "\n",
    "x_max = 3 \n",
    "y_max = (( -(w[0] *x_max) - b[0]) /w[1])\n",
    "\n",
    "\n",
    "fig , ax = plt.subplots(1 , 2, sharex = True , figsize = (7,3))\n",
    "\n",
    "ax[0].plot([x_min , x_max] ,[y_min , y_max])\n",
    "ax[0].scatter(X_train[y_train==0, 0], X_train[y_train==0 , 1] , label = \"class 0\" , marker = 'o')\n",
    "ax[0].scatter(X_train[y_train==1,0], X_train[y_train==1,1] , label= 'class 1' , marker = 's')\n",
    "\n",
    "ax[1].plot([x_min , x_max] ,[y_min,y_max])\n",
    "ax[1].scatter(X_test[y_test==0,0] , X_test[y_test==0,1] , label = 'class 0' , marker = 'o')\n",
    "ax[1].scatter(X_test[y_test==1,0] , X_test[y_test==1,1] ,label = 'class 1' , marker = 's') \n",
    "ax[1].legend(loc = 'upper left')\n",
    "plt.show()\n"
   ]
  },
  {
   "cell_type": "code",
   "execution_count": null,
   "id": "99db9fcb",
   "metadata": {},
   "outputs": [],
   "source": []
  }
 ],
 "metadata": {
  "kernelspec": {
   "display_name": "Python 3 (ipykernel)",
   "language": "python",
   "name": "python3"
  },
  "language_info": {
   "codemirror_mode": {
    "name": "ipython",
    "version": 3
   },
   "file_extension": ".py",
   "mimetype": "text/x-python",
   "name": "python",
   "nbconvert_exporter": "python",
   "pygments_lexer": "ipython3",
   "version": "3.10.9"
  }
 },
 "nbformat": 4,
 "nbformat_minor": 5
}
