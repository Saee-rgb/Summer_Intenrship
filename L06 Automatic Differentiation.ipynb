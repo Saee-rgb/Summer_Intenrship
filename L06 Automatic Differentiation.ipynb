{
 "cells": [
  {
   "cell_type": "markdown",
   "id": "c0f6ff08",
   "metadata": {},
   "source": [
    "### Autograd Example"
   ]
  },
  {
   "cell_type": "code",
   "execution_count": 2,
   "id": "b1799f43",
   "metadata": {},
   "outputs": [],
   "source": [
    "##Imports \n",
    "import torch \n",
    "from torch.autograd import grad \n",
    "import torch.nn.functional as F "
   ]
  },
  {
   "cell_type": "code",
   "execution_count": 3,
   "id": "eb1539d3",
   "metadata": {},
   "outputs": [],
   "source": [
    "##With reference to the computational graph, understand the following auto gradience example \n",
    "x = torch.tensor([3.])\n",
    "w = torch.tensor([2.] , requires_grad = True) # needs to calculate gradient wrt \n",
    "b = torch.tensor([1.] , requires_grad = True) # needs to calculate gradient wrt \n",
    "a = F.relu(x*w + b)\n",
    "\n"
   ]
  },
  {
   "cell_type": "code",
   "execution_count": 4,
   "id": "f67f2da1",
   "metadata": {},
   "outputs": [
    {
     "data": {
      "text/plain": [
       "(tensor([7.], grad_fn=<ReluBackward0>),\n",
       " tensor([1.], requires_grad=True),\n",
       " tensor([2.], requires_grad=True),\n",
       " tensor([3.]))"
      ]
     },
     "execution_count": 4,
     "metadata": {},
     "output_type": "execute_result"
    }
   ],
   "source": [
    "a , b, w, x"
   ]
  },
  {
   "cell_type": "code",
   "execution_count": 5,
   "id": "aa66af81",
   "metadata": {},
   "outputs": [
    {
     "data": {
      "text/plain": [
       "tensor([3.])"
      ]
     },
     "execution_count": 5,
     "metadata": {},
     "output_type": "execute_result"
    }
   ],
   "source": [
    "#syntax : grad(gradient_of , gradient_wrt , retain_graph = True)\n",
    "grad(a , w , retain_graph = True)#retain_graph : retain the computation graph , by default : false \n",
    "\n"
   ]
  },
  {
   "cell_type": "code",
   "execution_count": 9,
   "id": "8511a10e",
   "metadata": {},
   "outputs": [
    {
     "data": {
      "text/plain": [
       "(tensor([1.]),)"
      ]
     },
     "execution_count": 9,
     "metadata": {},
     "output_type": "execute_result"
    }
   ],
   "source": [
    "grad(a,b)   #graph retained, and derivative calculated "
   ]
  },
  {
   "cell_type": "code",
   "execution_count": 12,
   "id": "dc62a96b",
   "metadata": {},
   "outputs": [
    {
     "data": {
      "text/plain": [
       "(tensor([3.]),)"
      ]
     },
     "execution_count": 12,
     "metadata": {},
     "output_type": "execute_result"
    }
   ],
   "source": [
    "##Implementing  my own ReLU \n",
    "x = torch.tensor([3.])\n",
    "w = torch.tensor([2.] , requires_grad = True)\n",
    "b = torch.tensor([1.] , requires_grad = True)\n",
    "\n",
    "def my_relu(z): \n",
    "    if z>0 : \n",
    "        return z \n",
    "    else: \n",
    "        z[:] = 0 \n",
    "        return z\n",
    "\n",
    "a = my_relu(x*w + b)\n",
    "grad(a,w)"
   ]
  },
  {
   "cell_type": "code",
   "execution_count": 14,
   "id": "8cca28f7",
   "metadata": {},
   "outputs": [
    {
     "data": {
      "text/plain": [
       "(tensor([-0.]),)"
      ]
     },
     "execution_count": 14,
     "metadata": {},
     "output_type": "execute_result"
    }
   ],
   "source": [
    "#Note that even though the derivative of ReLU is not defined at 0, PyTorch autograd will do something that is reasonable\n",
    "#for practical purposes:\n",
    "\n",
    "x = torch.tensor([-1.])\n",
    "w = torch.tensor([1.] , requires_grad = True)\n",
    "b = torch.tensor([1.] , requires_grad = True)\n",
    "a = F.relu(x*w + b)\n",
    "grad(a , w, retain_graph = True)"
   ]
  }
 ],
 "metadata": {
  "kernelspec": {
   "display_name": "Python 3 (ipykernel)",
   "language": "python",
   "name": "python3"
  },
  "language_info": {
   "codemirror_mode": {
    "name": "ipython",
    "version": 3
   },
   "file_extension": ".py",
   "mimetype": "text/x-python",
   "name": "python",
   "nbconvert_exporter": "python",
   "pygments_lexer": "ipython3",
   "version": "3.10.9"
  }
 },
 "nbformat": 4,
 "nbformat_minor": 5
}
