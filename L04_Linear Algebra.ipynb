{
 "cells": [
  {
   "cell_type": "markdown",
   "id": "2e565edf",
   "metadata": {},
   "source": [
    "### Multidimensional Arrays ans Tensors \n"
   ]
  },
  {
   "cell_type": "code",
   "execution_count": 17,
   "id": "fbf8d8d2",
   "metadata": {},
   "outputs": [
    {
     "name": "stdout",
     "output_type": "stream",
     "text": [
      "14.0\n",
      "tensor(14.)\n"
     ]
    },
    {
     "data": {
      "text/plain": [
       "array([1., 2., 3.], dtype=float32)"
      ]
     },
     "execution_count": 17,
     "metadata": {},
     "output_type": "execute_result"
    }
   ],
   "source": [
    "#numpy.array/numpy.ndarray = data structure representation of a tensor \n",
    "#pytorch.tensor/pytorch.Tensor = data structure representation of a tensor \n",
    "\n",
    "import numpy as np \n",
    "import torch\n",
    "\n",
    "a = np.array([1. , 2. ,3.])\n",
    "a.shape\n",
    "b = torch.tensor([1. , 2.,3.]) \n",
    "\n",
    "\n",
    "#dot product with \n",
    "print(a.dot(a))\n",
    "print(b.matmul(b))\n",
    "\n",
    "#To get the type\n",
    "b.numpy()\n"
   ]
  },
  {
   "cell_type": "code",
   "execution_count": 18,
   "id": "9a1fbec9",
   "metadata": {},
   "outputs": [
    {
     "data": {
      "text/plain": [
       "tensor([1., 2., 3.], dtype=torch.float64)"
      ]
     },
     "execution_count": 18,
     "metadata": {},
     "output_type": "execute_result"
    }
   ],
   "source": [
    "#\n",
    "torch.tensor(a)"
   ]
  },
  {
   "cell_type": "code",
   "execution_count": 20,
   "id": "6e0d34f5",
   "metadata": {},
   "outputs": [
    {
     "name": "stdout",
     "output_type": "stream",
     "text": [
      "tensor([1., 2., 3.]) tensor([1, 2, 3])\n"
     ]
    }
   ],
   "source": [
    "##Specify the type upon construction \n",
    "\n",
    "c = torch.tensor([1.,2.,3.] , dtype = torch.float)\n",
    "d = torch.tensor([1 ,2,3])\n",
    "print(c,d)"
   ]
  },
  {
   "cell_type": "code",
   "execution_count": 22,
   "id": "c591c8a4",
   "metadata": {},
   "outputs": [
    {
     "name": "stdout",
     "output_type": "stream",
     "text": [
      "tensor([0., 0., 0.])\n",
      "tensor([0., 0., 0.], dtype=torch.float64)\n",
      "tensor([0, 0, 0], dtype=torch.int32)\n",
      "tensor([0, 0, 0])\n"
     ]
    }
   ],
   "source": [
    "##Changing types on the fly \n",
    "c = torch.tensor([1. , 2. , 3.])\n",
    "d = torch.tensor([1,2,3])\n",
    "\n",
    "print(c.float() - d.float())\n",
    "print(c.double() - d.double())\n",
    "print(c.int() - d.int())\n",
    "print(c.long() - d.long())\n"
   ]
  },
  {
   "cell_type": "markdown",
   "id": "d7978b9d",
   "metadata": {},
   "source": [
    "### Loading data into GPU "
   ]
  },
  {
   "cell_type": "code",
   "execution_count": 26,
   "id": "1abc9bfc",
   "metadata": {},
   "outputs": [],
   "source": [
    "##After installing CUDA\n",
    "\n",
    "#print(torch.cuda.is_available())\n",
    "#b = b.to(torch.device('cuda:0'))\n",
    "#b = b.to(torch.device('cpu'))"
   ]
  },
  {
   "cell_type": "markdown",
   "id": "9dc6237b",
   "metadata": {},
   "source": [
    "### Vectors in PyTorch"
   ]
  },
  {
   "cell_type": "code",
   "execution_count": 28,
   "id": "2821de56",
   "metadata": {},
   "outputs": [
    {
     "data": {
      "text/plain": [
       "tensor([ 4, 10, 18])"
      ]
     },
     "execution_count": 28,
     "metadata": {},
     "output_type": "execute_result"
    }
   ],
   "source": [
    "#elementwise multiplication \n",
    "a = torch.tensor([1 ,2,3])\n",
    "b = torch.tensor([4 ,5 , 6])\n",
    "\n",
    "a*b \n"
   ]
  },
  {
   "cell_type": "code",
   "execution_count": 30,
   "id": "8cf9e143",
   "metadata": {},
   "outputs": [
    {
     "data": {
      "text/plain": [
       "tensor([2, 3, 4])"
      ]
     },
     "execution_count": 30,
     "metadata": {},
     "output_type": "execute_result"
    }
   ],
   "source": [
    "#Addition : Think of 1 as [1 ,1, 1]\n",
    "torch.tensor([1 ,2, 3]) + 1"
   ]
  },
  {
   "cell_type": "code",
   "execution_count": 31,
   "id": "ceb1bed7",
   "metadata": {},
   "outputs": [
    {
     "data": {
      "text/plain": [
       "tensor([[0, 1, 2],\n",
       "        [3, 4, 5]])"
      ]
     },
     "execution_count": 31,
     "metadata": {},
     "output_type": "execute_result"
    }
   ],
   "source": [
    "import torch \n",
    "X = torch.arange(6).view(2,3)\n",
    "X"
   ]
  },
  {
   "cell_type": "code",
   "execution_count": 39,
   "id": "30364d12",
   "metadata": {},
   "outputs": [
    {
     "data": {
      "text/plain": [
       "tensor([ 8, 26])"
      ]
     },
     "execution_count": 39,
     "metadata": {},
     "output_type": "execute_result"
    }
   ],
   "source": [
    "w = torch.tensor([1 ,2,3])\n",
    "\n",
    "#Xw : Matrix multiplication \n",
    "X.matmul(w)\n"
   ]
  },
  {
   "cell_type": "code",
   "execution_count": 40,
   "id": "77111505",
   "metadata": {},
   "outputs": [
    {
     "data": {
      "text/plain": [
       "tensor([[1],\n",
       "        [2],\n",
       "        [3]])"
      ]
     },
     "execution_count": 40,
     "metadata": {},
     "output_type": "execute_result"
    }
   ],
   "source": [
    "w = w.view(-1,1)  #same as reshape : column vector \n",
    "w"
   ]
  },
  {
   "cell_type": "code",
   "execution_count": 42,
   "id": "4fc7739b",
   "metadata": {},
   "outputs": [
    {
     "data": {
      "text/plain": [
       "tensor([[ 8],\n",
       "        [26]])"
      ]
     },
     "execution_count": 42,
     "metadata": {},
     "output_type": "execute_result"
    }
   ],
   "source": [
    "X.matmul(w)   #function sees that matrix multiplication makes sense after taking transpose of w "
   ]
  },
  {
   "cell_type": "markdown",
   "id": "8c9e714e",
   "metadata": {},
   "source": [
    "### Broadcasting "
   ]
  },
  {
   "cell_type": "code",
   "execution_count": 43,
   "id": "f005749e",
   "metadata": {},
   "outputs": [
    {
     "data": {
      "text/plain": [
       "tensor([2, 3, 4])"
      ]
     },
     "execution_count": 43,
     "metadata": {},
     "output_type": "execute_result"
    }
   ],
   "source": [
    "torch.tensor([1 , 2, 3]) + 1\n"
   ]
  },
  {
   "cell_type": "code",
   "execution_count": 46,
   "id": "9ccfa748",
   "metadata": {},
   "outputs": [
    {
     "data": {
      "text/plain": [
       "tensor([[1, 2, 3],\n",
       "        [4, 5, 6]])"
      ]
     },
     "execution_count": 46,
     "metadata": {},
     "output_type": "execute_result"
    }
   ],
   "source": [
    "t = torch.tensor([[1 ,2 , 3 ] , [4 , 5, 6]])\n",
    "t ## works exactly like numpy"
   ]
  },
  {
   "cell_type": "code",
   "execution_count": 47,
   "id": "c5feab76",
   "metadata": {},
   "outputs": [
    {
     "data": {
      "text/plain": [
       "tensor([[2, 4, 6],\n",
       "        [5, 7, 9]])"
      ]
     },
     "execution_count": 47,
     "metadata": {},
     "output_type": "execute_result"
    }
   ],
   "source": [
    "t + torch.tensor([ 1, 2, 3])"
   ]
  },
  {
   "cell_type": "code",
   "execution_count": null,
   "id": "b896bec3",
   "metadata": {},
   "outputs": [],
   "source": []
  },
  {
   "cell_type": "code",
   "execution_count": null,
   "id": "028f3cda",
   "metadata": {},
   "outputs": [],
   "source": []
  }
 ],
 "metadata": {
  "kernelspec": {
   "display_name": "Python 3 (ipykernel)",
   "language": "python",
   "name": "python3"
  },
  "language_info": {
   "codemirror_mode": {
    "name": "ipython",
    "version": 3
   },
   "file_extension": ".py",
   "mimetype": "text/x-python",
   "name": "python",
   "nbconvert_exporter": "python",
   "pygments_lexer": "ipython3",
   "version": "3.10.9"
  }
 },
 "nbformat": 4,
 "nbformat_minor": 5
}
