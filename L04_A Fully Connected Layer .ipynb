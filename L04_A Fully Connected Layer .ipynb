{
 "cells": [
  {
   "cell_type": "code",
   "execution_count": 3,
   "id": "f8d314ba",
   "metadata": {
    "scrolled": true
   },
   "outputs": [
    {
     "data": {
      "text/plain": [
       "tensor([[ 0.,  1.,  2.,  3.,  4.],\n",
       "        [ 5.,  6.,  7.,  8.,  9.],\n",
       "        [10., 11., 12., 13., 14.],\n",
       "        [15., 16., 17., 18., 19.],\n",
       "        [20., 21., 22., 23., 24.],\n",
       "        [25., 26., 27., 28., 29.],\n",
       "        [30., 31., 32., 33., 34.],\n",
       "        [35., 36., 37., 38., 39.],\n",
       "        [40., 41., 42., 43., 44.],\n",
       "        [45., 46., 47., 48., 49.]])"
      ]
     },
     "execution_count": 3,
     "metadata": {},
     "output_type": "execute_result"
    }
   ],
   "source": [
    "## Fully connected layer : linear layer \n",
    "import torch \n",
    "X = torch.arange(50 , dtype = torch.float).view(10,5) # make a 10 x 5 matrix of floats from 0 to 50\n",
    "X"
   ]
  },
  {
   "cell_type": "code",
   "execution_count": 4,
   "id": "304dc99f",
   "metadata": {},
   "outputs": [],
   "source": [
    "#Make fully connected layer : attaributes weights and bias attached \n",
    "fc_layer = torch.nn.Linear(in_features = 5, out_features = 3) # (3 x 5)"
   ]
  },
  {
   "cell_type": "code",
   "execution_count": 6,
   "id": "62ba4017",
   "metadata": {},
   "outputs": [
    {
     "data": {
      "text/plain": [
       "Parameter containing:\n",
       "tensor([[ 0.4239, -0.4174, -0.0761,  0.0509,  0.0153],\n",
       "        [-0.0590, -0.1249, -0.2650, -0.4047,  0.2078],\n",
       "        [ 0.2174, -0.3346,  0.1236,  0.3338,  0.3465]], requires_grad=True)"
      ]
     },
     "execution_count": 6,
     "metadata": {},
     "output_type": "execute_result"
    }
   ],
   "source": [
    "fc_layer.weight #(3 x 5) out_features x in_features "
   ]
  },
  {
   "cell_type": "code",
   "execution_count": 7,
   "id": "7e2cd7d2",
   "metadata": {},
   "outputs": [
    {
     "data": {
      "text/plain": [
       "Parameter containing:\n",
       "tensor([-0.0928,  0.2031,  0.0234], requires_grad=True)"
      ]
     },
     "execution_count": 7,
     "metadata": {},
     "output_type": "execute_result"
    }
   ],
   "source": [
    "fc_layer.bias #(1 x 3) #no of output features "
   ]
  },
  {
   "cell_type": "code",
   "execution_count": 9,
   "id": "03bac02d",
   "metadata": {},
   "outputs": [
    {
     "name": "stdout",
     "output_type": "stream",
     "text": [
      "X dim:  torch.Size([10, 5])\n",
      "W dim:  torch.Size([3, 5])\n",
      "b dim:  torch.Size([3])\n",
      "A:  tensor([[ -0.4484,  -0.8348,   2.3232],\n",
      "        [ -0.4653,  -4.0641,   5.7564],\n",
      "        [ -0.4822,  -7.2934,   9.1896],\n",
      "        [ -0.4990, -10.5227,  12.6227],\n",
      "        [ -0.5159, -13.7521,  16.0559],\n",
      "        [ -0.5327, -16.9814,  19.4891],\n",
      "        [ -0.5496, -20.2107,  22.9222],\n",
      "        [ -0.5664, -23.4401,  26.3554],\n",
      "        [ -0.5833, -26.6694,  29.7886],\n",
      "        [ -0.6001, -29.8987,  33.2217]], grad_fn=<AddmmBackward0>)\n",
      "A dim:  torch.Size([10, 3])\n"
     ]
    }
   ],
   "source": [
    "##Printing things together \n",
    "print('X dim: ' , X.size())\n",
    "print('W dim: ' , fc_layer.weight.size())\n",
    "print('b dim: ' , fc_layer.bias.size())\n",
    "#.size() is equivalent to shape \n",
    "A = fc_layer(X)\n",
    "print('A: ' , A)\n",
    "print('A dim: ' , A.size()) #no of training examples X no of outputs "
   ]
  },
  {
   "cell_type": "code",
   "execution_count": null,
   "id": "76986183",
   "metadata": {},
   "outputs": [],
   "source": []
  },
  {
   "cell_type": "code",
   "execution_count": null,
   "id": "ba13b5de",
   "metadata": {},
   "outputs": [],
   "source": []
  }
 ],
 "metadata": {
  "kernelspec": {
   "display_name": "Python 3 (ipykernel)",
   "language": "python",
   "name": "python3"
  },
  "language_info": {
   "codemirror_mode": {
    "name": "ipython",
    "version": 3
   },
   "file_extension": ".py",
   "mimetype": "text/x-python",
   "name": "python",
   "nbconvert_exporter": "python",
   "pygments_lexer": "ipython3",
   "version": "3.10.9"
  }
 },
 "nbformat": 4,
 "nbformat_minor": 5
}
